{
 "cells": [
  {
   "cell_type": "markdown",
   "metadata": {
    "collapsed": true
   },
   "source": [
    "# Credit Risk"
   ]
  },
  {
   "cell_type": "markdown",
   "metadata": {},
   "source": [
    "#### DEFINITION\n",
    "\n",
    "- [Definition @ Investopedia](http://www.investopedia.com/terms/c/creditrisk.asp)\n",
    "\n",
    "    The risk of loss of principal or loss of a financial reward stemming from a borrower's **failure** to repay a loan or otherwise meet a contractual obligation. Credit risk arises whenever a borrower is expecting to use **future** cash flows to pay a current debt. Investors are compensated for assuming credit risk by way of interest payments from the borrower or issuer of a debt obligation.\n",
    "\n",
    "    Credit risk is closely tied to the potential return of an investment, the most notable being that the **yields** on bonds correlate strongly to their perceived credit risk.\n",
    "    \n",
    "    BREAKING DOWN 'Credit Risk':\n",
    "    \n",
    "    The higher the perceived credit risk, the higher the rate of interest that investors will demand for lending their capital. Credit risks are calculated based on the borrowers' overall ability to repay. This calculation includes the borrowers' collateral assets, revenue-generating ability and taxing authority (such as for government and municipal bonds).\n",
    "    \n",
    "    Credit risks are a vital component of **fixed-income** investing, which is why ratings agencies such as S&P, Moody's and Fitch evaluate the credit risks of thousands of corporate issuers and municipalities on an ongoing basis.\n",
    "\n",
    "\n",
    "    \n",
    "    \n",
    "- [Definition @ Wikipedia](https://en.wikipedia.org/wiki/Credit_risk)\n",
    "\n",
    "    A credit risk is the risk of default on a debt that may arise from a borrower failing to make required payments.\n",
    "    \n",
    "    In the first resort, the risk is that of the lender and includes lost principal and interest, disruption to cash flows, and increased collection costs.\n",
    "    \n",
    "    The loss may be complete or partial and can arise in a number of circumstances, for example:\n",
    "    \n",
    "    \n",
    "    - consumer may fail to make a payment due on a mortgage loan, credit card, line of credit, or other loan.\n",
    "    - company is unable to repay asset-secured fixed or floating charge debt.\n",
    "    - business or consumer does not pay a trade invoice when due.\n",
    "    - business does not pay an employee's earned wages when due.\n",
    "    - business or government bond issuer does not make a payment on a coupon or principal payment when due.\n",
    "    - An insolvent insurance company does not pay a policy obligation.\n",
    "    - An insolvent bank won't return funds to a depositor.\n",
    "    - A government grants bankruptcy protection to an insolvent consumer or business."
   ]
  },
  {
   "cell_type": "code",
   "execution_count": null,
   "metadata": {
    "collapsed": true
   },
   "outputs": [],
   "source": []
  }
 ],
 "metadata": {
  "kernelspec": {
   "display_name": "Python 3",
   "language": "python",
   "name": "python3"
  },
  "language_info": {
   "codemirror_mode": {
    "name": "ipython",
    "version": 3
   },
   "file_extension": ".py",
   "mimetype": "text/x-python",
   "name": "python",
   "nbconvert_exporter": "python",
   "pygments_lexer": "ipython3",
   "version": "3.4.3"
  }
 },
 "nbformat": 4,
 "nbformat_minor": 0
}
