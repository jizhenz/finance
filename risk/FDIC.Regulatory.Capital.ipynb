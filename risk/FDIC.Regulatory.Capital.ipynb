{
 "cells": [
  {
   "cell_type": "markdown",
   "metadata": {},
   "source": [
    "## Regulatory Capital @ FDIC\n",
    "https://www.fdic.gov/regulations/capital/capital/index.html\n",
    "    "
   ]
  },
  {
   "cell_type": "markdown",
   "metadata": {},
   "source": [
    "## Regulatory Capital Estimation Tool: Observations \n",
    "@ Harvard Law School\n",
    "\n",
    "http://corpgov.law.harvard.edu/2012/10/16/regulatory-capital-estimation-tool-observations/\n",
    "    "
   ]
  },
  {
   "cell_type": "markdown",
   "metadata": {},
   "source": [
    "## U.S. Basel III Final Rule: Standardized Risk Weights Tool\n",
    "http://www.usbasel3.com/tool/index.html\n",
    "\n",
    "    http://www.usbasel3.com/ \n",
    "    More materials \n",
    "    Include presentations, forum, visual memo, Volcker Rule, Dodd-Frank\n",
    "    "
   ]
  },
  {
   "cell_type": "code",
   "execution_count": null,
   "metadata": {
    "collapsed": true
   },
   "outputs": [],
   "source": []
  }
 ],
 "metadata": {
  "kernelspec": {
   "display_name": "Python 3",
   "language": "python",
   "name": "python3"
  },
  "language_info": {
   "codemirror_mode": {
    "name": "ipython",
    "version": 3
   },
   "file_extension": ".py",
   "mimetype": "text/x-python",
   "name": "python",
   "nbconvert_exporter": "python",
   "pygments_lexer": "ipython3",
   "version": "3.4.3"
  }
 },
 "nbformat": 4,
 "nbformat_minor": 0
}
